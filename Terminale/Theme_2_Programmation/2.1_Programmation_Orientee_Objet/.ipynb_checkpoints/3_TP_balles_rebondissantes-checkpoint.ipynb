{
 "cells": [
  {
   "cell_type": "markdown",
   "metadata": {},
   "source": [
    "# TP de Programmation Orientée Objet : (beaucoup de) balles rebondissantes\n",
    "\n",
    "![dsf](data/balles1.png)"
   ]
  },
  {
   "cell_type": "markdown",
   "metadata": {},
   "source": [
    "## 1. Prise en main de Pygame\n",
    "Attention, l'utilisation de Pygame au sein de Jupyter provoque des plantages de noyau. Il est préférable d'utiliser un autre IDE ou bien un https://repl.it/ (choisir le langage Pygame).  \n",
    "Testez le code suivant :"
   ]
  },
  {
   "cell_type": "code",
   "execution_count": null,
   "metadata": {
    "scrolled": false
   },
   "outputs": [],
   "source": [
    "import pygame, sys\n",
    "import time\n",
    "from pygame.locals import *\n",
    "\n",
    "pygame.display.init()\n",
    "fenetre = pygame.display.set_mode((640, 480))\n",
    "fenetre.fill([0,0,0])\n",
    "\n",
    "x = 300\n",
    "y = 200\n",
    "dx = 4\n",
    "dy = -3\n",
    "couleur = (45,170,250)\n",
    "\n",
    "while True :\n",
    "    fenetre.fill([0,0,0])\n",
    "    pygame.draw.circle(fenetre,couleur,(x,y),10)\n",
    "    \n",
    "    x += dx\n",
    "    y += dy\n",
    "    \n",
    "    pygame.display.update()\n",
    "    \n",
    "    # routine pour pouvoir fermer «proprement» la fenêtre Pygame\n",
    "    for event in pygame.event.get():\n",
    "        if event.type == pygame.QUIT:\n",
    "            pygame.display.quit()\n",
    "    \n",
    "    \n",
    "    time.sleep(0.1)"
   ]
  },
  {
   "cell_type": "markdown",
   "metadata": {},
   "source": [
    "### 1.1  Rajout d'un rebond sur les parois\n",
    "Modifiez le code précédent afin que la balle rebondisse sur chaque paroi (il suffit de modifier intelligemment les variables de vitesse ```dx``` et ```dy```).\n",
    "\n",
    "### 1.2 Rajout d'une deuxième balle\n",
    "Attention au nommage des variables...\n",
    "\n",
    "### 1.3 Gestion de la collision entre les deux balles\n",
    "1. À l'aide d'un schéma (papier-crayon !), mettez en évidence le test devant être réalisé pour détecter une collision.\n",
    "2. Implémentez ce test et affichez \"collision\" en console lorsque les deux balles se touchent.\n",
    "3. Pour l'illusion du rebond, échangez les valeurs respectives de ```dx``` et ```dy``` pour les deux balles.\n",
    "\n",
    "### 1.4 Rajout d'une troisième balle et gestion du rebond avec les deux autres.\n",
    "... vraiment ? Peut-on continuer comme précédemment ?"
   ]
  },
  {
   "cell_type": "markdown",
   "metadata": {},
   "source": [
    "## 2. La POO à la rescousse : création d'une classe Balle"
   ]
  },
  {
   "cell_type": "markdown",
   "metadata": {},
   "source": [
    "### 2.1 la classe Balle\n",
    "L'objectif est que la méthode constructeur dote chaque nouvelle balle de valeurs aléatoires : abscisse, ordonnée, vitesse, couleur...  \n",
    "Créez cette classe et instanciez une balle."
   ]
  },
  {
   "cell_type": "code",
   "execution_count": null,
   "metadata": {},
   "outputs": [],
   "source": [
    "import pygame, sys\n",
    "import time\n",
    "from pygame.locals import *\n",
    "from random import randint\n",
    "\n",
    "clock = pygame.time.Clock()\n",
    "\n",
    "ecran = (640,480)\n",
    "FPS = 60\n",
    "\n",
    "taille = 10\n",
    "\n",
    "pygame.display.init()\n",
    "fenetre = pygame.display.set_mode(ecran)\n",
    "fenetre.fill([0,0,0])\n",
    "\n",
    "class Balle :\n",
    "    def __init__(self):\n",
    "        self.x = randint(0,ecran[0])\n",
    "        self.y = randint(0,ecran[1])       \n",
    "        self.dx = randint(-5,5)\n",
    "        self.dy = randint(-5,5)\n",
    "        self.color = (randint(0,255),randint(0,255),randint(0,255),randint(0,255))\n",
    "        self.taille = taille\n",
    "        \n",
    "    def move(self):\n",
    "        self.x += self.dx\n",
    "        self.y += self.dy\n",
    "        \n",
    "        if self.x < taille or self.x > ecran[0]-taille :\n",
    "            self.dx = -self.dx\n",
    "        \n",
    "        if self.y < taille or self.y > ecran[1]-taille :\n",
    "            self.dy = -self.dy\n",
    "    \n",
    "    def draw(self):\n",
    "        pygame.draw.circle(fenetre,self.color,(self.x,self.y),self.taille)\n",
    "\n",
    "b = Balle()\n",
    "     \n",
    "        \n",
    "        \n",
    "while True :\n",
    "\n",
    "    fenetre.fill([0,0,0])\n",
    "\n",
    "    b.move()\n",
    "    b.draw()\n",
    "    \n",
    "    \n",
    "\n",
    "    \n",
    "    pygame.display.flip()\n",
    "    \n",
    "    # routine pour pouvoir fermer «proprement» la fenêtre Pygame\n",
    "    for event in pygame.event.get():\n",
    "        if event.type == pygame.QUIT:\n",
    "            pygame.display.quit()\n",
    "    \n",
    "    clock.tick(FPS)\n"
   ]
  }
 ],
 "metadata": {
  "kernelspec": {
   "display_name": "Python 3",
   "language": "python",
   "name": "python3"
  },
  "language_info": {
   "codemirror_mode": {
    "name": "ipython",
    "version": 3
   },
   "file_extension": ".py",
   "mimetype": "text/x-python",
   "name": "python",
   "nbconvert_exporter": "python",
   "pygments_lexer": "ipython3",
   "version": "3.6.9"
  }
 },
 "nbformat": 4,
 "nbformat_minor": 4
}
